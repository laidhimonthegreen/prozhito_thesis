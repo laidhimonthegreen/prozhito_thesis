{
 "cells": [
  {
   "cell_type": "code",
   "execution_count": 2,
   "metadata": {},
   "outputs": [
    {
     "name": "stdout",
     "output_type": "stream",
     "text": [
      "[nltk_data] Downloading package stopwords to\n",
      "[nltk_data]     /home/laidhimonthegreen/nltk_data...\n",
      "[nltk_data]   Package stopwords is already up-to-date!\n"
     ]
    }
   ],
   "source": [
    "#загрузка необходимых модулей и библиотек\n",
    "\n",
    "import pandas as pd\n",
    "import csvtools \n",
    "import pymorphy2 \n",
    "import random\n",
    "from nltk.tokenize import sent_tokenize, word_tokenize\n",
    "from collections import Counter \n",
    "import prozhito_tools.dump\n",
    "\n",
    "from string import punctuation as punct\n",
    "import numpy as np\n",
    "import matplotlib.mlab as mlab\n",
    "import matplotlib.pyplot as plt\n",
    " \n",
    "import nltk\n",
    "nltk.download(\"stopwords\")\n",
    "from pymorphy2 import MorphAnalyzer \n",
    "from sklearn.feature_extraction.text import TfidfVectorizer\n",
    "morph = MorphAnalyzer()\n",
    "\n",
    "from string import punctuation\n",
    "from nltk.corpus import stopwords\n",
    "punct = punctuation+'«»—…“”*№–'\n",
    "stops = set(stopwords.words('russian'))\n",
    "\n",
    "# источник дампа: https://www.dropbox.com/sh/8vfjjt8107sv9r3/AADOVR795MxFovpuGN9PT_JZa?dl=0"
   ]
  },
  {
   "cell_type": "code",
   "execution_count": 3,
   "metadata": {},
   "outputs": [],
   "source": [
    "def normalize(text):\n",
    "    \"\"\" нормализация текста \"\"\"\n",
    "    words = text.lower().split()\n",
    "    words = [word.strip(punct) for word in words]\n",
    "    words = [word for word in words if word and word not in stops] \n",
    "    return words"
   ]
  },
  {
   "cell_type": "code",
   "execution_count": 36,
   "metadata": {},
   "outputs": [],
   "source": [
    "# задаем \"кириллические\" символы\n",
    "cyr = \"абвгдеёжзийклмнопрстуфхцчшщъыьэюя \" \n",
    "cyrillic = cyr + cyr.upper() + punct\n",
    "\n",
    "def is_russian(text):\n",
    "    \"\"\" определяем, кириллический ли текст \"\"\"\n",
    "    all_len = len(text)\n",
    "    if all_len:\n",
    "        cyr_len = 0\n",
    "        for sym in text:\n",
    "            if sym in cyrillic:\n",
    "                cyr_len += 1\n",
    "        if cyr_len/all_len > 0.5:\n",
    "            if (\"ї\" not in text) and (\"є\" not in text) and (\"ѣ\" not in text):\n",
    "                return True\n",
    "    return False"
   ]
  },
  {
   "cell_type": "code",
   "execution_count": 37,
   "metadata": {},
   "outputs": [],
   "source": [
    "def is_poetry(text):\n",
    "    \"\"\" проверяем, есть ли в тексте длинные стихи \"\"\"\n",
    "    lines = text.split(\"\\n\")\n",
    "    poetry_lines = [x for x in lines if x.strip().startswith(\">\")]\n",
    "    if len(poetry_lines) > 5:\n",
    "        return True\n",
    "    else:\n",
    "        return False"
   ]
  },
  {
   "cell_type": "code",
   "execution_count": 38,
   "metadata": {},
   "outputs": [],
   "source": [
    "def clean_table(pandas_table, min_len, max_len):\n",
    "    \"\"\" фильтруем таблицу \"\"\"\n",
    "    pandas_table[\"length\"] = pandas_table.notes.apply(lambda x: len(x))\n",
    "    pandas_table = pandas_table[(pandas_table[\"length\"] < 1500) & (pandas_table[\"length\"] > 500)]\n",
    "    pandas_table[\"russian\"] = pandas_table[\"notes\"].apply(lambda x: is_russian(x))\n",
    "    pandas_table = pandas_table[(pandas_table[\"russian\"] == True)]\n",
    "    pandas_table[\"poetry\"] = pandas_table[\"notes\"].apply(lambda x: is_poetry(x))\n",
    "    pandas_table = pandas_table[(pandas_table[\"poetry\"] == False)]\n",
    "    return pandas_table"
   ]
  },
  {
   "cell_type": "code",
   "execution_count": 39,
   "metadata": {},
   "outputs": [],
   "source": [
    "# загрузка дампа данных\n",
    "\n",
    "dw = prozhito_tools.dump.Wrapper(csvpath='./prozhito_dump/')"
   ]
  },
  {
   "cell_type": "code",
   "execution_count": 40,
   "metadata": {},
   "outputs": [
    {
     "data": {
      "text/plain": [
       "(384587, 3464)"
      ]
     },
     "execution_count": 40,
     "metadata": {},
     "output_type": "execute_result"
    }
   ],
   "source": [
    "# количество записей, количество авторов\n",
    "\n",
    "len(dw.notes), len(dw.authors)"
   ]
  },
  {
   "cell_type": "markdown",
   "metadata": {},
   "source": [
    "### Создаём табличку с данными о наших дневниковых записях."
   ]
  },
  {
   "cell_type": "code",
   "execution_count": 41,
   "metadata": {},
   "outputs": [],
   "source": [
    "# собираем записи, их даты и айдишники дневников\n",
    "\n",
    "all_notes = []\n",
    "all_dates = []\n",
    "all_ids = []\n",
    "all_authors = []\n",
    "for x in dw.notes:\n",
    "    try:\n",
    "        if x.diary:\n",
    "            all_notes.append(x.text)\n",
    "            all_dates.append(\"/\".join([str(b) for b in x.date]))\n",
    "            all_ids.append(x.diary_ID) \n",
    "        try:\n",
    "            all_authors.append(x.diary.author.name)\n",
    "        except AttributeError:\n",
    "            all_authors.append(\"no author\")\n",
    "    except KeyError:\n",
    "        continue"
   ]
  },
  {
   "cell_type": "code",
   "execution_count": 42,
   "metadata": {},
   "outputs": [],
   "source": [
    "# делаем табличку\n",
    "\n",
    "notes_pd = pd.DataFrame()\n",
    "\n",
    "notes_pd[\"notes\"] = all_notes\n",
    "notes_pd[\"dates\"] = all_dates\n",
    "notes_pd[\"id\"] = all_ids\n",
    "notes_pd[\"author\"] = all_authors"
   ]
  },
  {
   "cell_type": "code",
   "execution_count": 43,
   "metadata": {},
   "outputs": [
    {
     "data": {
      "text/html": [
       "<div>\n",
       "<style scoped>\n",
       "    .dataframe tbody tr th:only-of-type {\n",
       "        vertical-align: middle;\n",
       "    }\n",
       "\n",
       "    .dataframe tbody tr th {\n",
       "        vertical-align: top;\n",
       "    }\n",
       "\n",
       "    .dataframe thead th {\n",
       "        text-align: right;\n",
       "    }\n",
       "</style>\n",
       "<table border=\"1\" class=\"dataframe\">\n",
       "  <thead>\n",
       "    <tr style=\"text-align: right;\">\n",
       "      <th></th>\n",
       "      <th>notes</th>\n",
       "      <th>dates</th>\n",
       "      <th>id</th>\n",
       "      <th>author</th>\n",
       "    </tr>\n",
       "  </thead>\n",
       "  <tbody>\n",
       "    <tr>\n",
       "      <th>0</th>\n",
       "      <td>Воскресенье.    \\nВчера приехал Слава навестит...</td>\n",
       "      <td>0/0/0</td>\n",
       "      <td>2950</td>\n",
       "      <td>Василий Сергеевич Савельев</td>\n",
       "    </tr>\n",
       "    <tr>\n",
       "      <th>1</th>\n",
       "      <td>Ночью мы достигли банки Антон-Дорн, в Датском ...</td>\n",
       "      <td>0/0/0</td>\n",
       "      <td>2268</td>\n",
       "      <td>Олег Владимирович Амитров</td>\n",
       "    </tr>\n",
       "    <tr>\n",
       "      <th>2</th>\n",
       "      <td>Суббота. Москва. Еду в Селище.</td>\n",
       "      <td>0/12/21</td>\n",
       "      <td>795</td>\n",
       "      <td>Сергей Иванович Танеев</td>\n",
       "    </tr>\n",
       "    <tr>\n",
       "      <th>3</th>\n",
       "      <td>18 Августа Его Королевское Величество отправил...</td>\n",
       "      <td>1609/8/18</td>\n",
       "      <td>1081</td>\n",
       "      <td>Самуил  Бельский</td>\n",
       "    </tr>\n",
       "    <tr>\n",
       "      <th>4</th>\n",
       "      <td>На следующий день, 19 Августа, прибыл в Остров...</td>\n",
       "      <td>1609/8/19</td>\n",
       "      <td>1081</td>\n",
       "      <td>Самуил  Бельский</td>\n",
       "    </tr>\n",
       "  </tbody>\n",
       "</table>\n",
       "</div>"
      ],
      "text/plain": [
       "                                               notes      dates    id  \\\n",
       "0  Воскресенье.    \\nВчера приехал Слава навестит...      0/0/0  2950   \n",
       "1  Ночью мы достигли банки Антон-Дорн, в Датском ...      0/0/0  2268   \n",
       "2                     Суббота. Москва. Еду в Селище.    0/12/21   795   \n",
       "3  18 Августа Его Королевское Величество отправил...  1609/8/18  1081   \n",
       "4  На следующий день, 19 Августа, прибыл в Остров...  1609/8/19  1081   \n",
       "\n",
       "                       author  \n",
       "0  Василий Сергеевич Савельев  \n",
       "1   Олег Владимирович Амитров  \n",
       "2      Сергей Иванович Танеев  \n",
       "3            Самуил  Бельский  \n",
       "4            Самуил  Бельский  "
      ]
     },
     "execution_count": 43,
     "metadata": {},
     "output_type": "execute_result"
    }
   ],
   "source": [
    "notes_pd.head()"
   ]
  },
  {
   "cell_type": "code",
   "execution_count": 44,
   "metadata": {},
   "outputs": [],
   "source": [
    "notes_pd[\"length\"] = notes_pd.notes.apply(lambda x: len(x))"
   ]
  },
  {
   "cell_type": "code",
   "execution_count": 45,
   "metadata": {},
   "outputs": [
    {
     "data": {
      "text/plain": [
       "(1127.4357702730115, 564.0)"
      ]
     },
     "execution_count": 45,
     "metadata": {},
     "output_type": "execute_result"
    }
   ],
   "source": [
    "# среднее и медиана\n",
    "np.mean(notes_pd[\"length\"]), np.nanmedian(notes_pd[\"length\"])"
   ]
  },
  {
   "cell_type": "code",
   "execution_count": 46,
   "metadata": {},
   "outputs": [
    {
     "data": {
      "text/plain": [
       "(197.0, 1564.0)"
      ]
     },
     "execution_count": 46,
     "metadata": {},
     "output_type": "execute_result"
    }
   ],
   "source": [
    "# перцентили\n",
    "np.nanquantile(notes_pd[\"length\"], 0.2), \\\n",
    "np.nanquantile(notes_pd[\"length\"], 0.80)"
   ]
  },
  {
   "cell_type": "code",
   "execution_count": 47,
   "metadata": {},
   "outputs": [
    {
     "name": "stderr",
     "output_type": "stream",
     "text": [
      "/home/laidhimonthegreen/anaconda3/lib/python3.7/site-packages/ipykernel_launcher.py:4: SettingWithCopyWarning: \n",
      "A value is trying to be set on a copy of a slice from a DataFrame.\n",
      "Try using .loc[row_indexer,col_indexer] = value instead\n",
      "\n",
      "See the caveats in the documentation: http://pandas.pydata.org/pandas-docs/stable/indexing.html#indexing-view-versus-copy\n",
      "  after removing the cwd from sys.path.\n"
     ]
    }
   ],
   "source": [
    "# фильтруем табличку с записями нужной длины\n",
    "cleaned_notes_pd = clean_table(notes_pd, 500, 1600)"
   ]
  },
  {
   "cell_type": "code",
   "execution_count": 48,
   "metadata": {},
   "outputs": [],
   "source": [
    "notes_pd[\"poetry\"] = notes_pd.notes.apply(lambda x: is_poetry(x))"
   ]
  },
  {
   "cell_type": "code",
   "execution_count": 49,
   "metadata": {
    "scrolled": true
   },
   "outputs": [],
   "source": [
    "cleaned_notes_pd.to_csv(\"big_cleaned_table.csv\", sep=\"\\t\")"
   ]
  },
  {
   "cell_type": "code",
   "execution_count": 50,
   "metadata": {},
   "outputs": [],
   "source": [
    "cleaned_notes_pd[\"note_id\"] = cleaned_notes_pd.index"
   ]
  },
  {
   "cell_type": "code",
   "execution_count": 51,
   "metadata": {},
   "outputs": [],
   "source": [
    "# записываем табличку\n",
    "cleaned_notes_pd.to_csv(\"big_cleaned_table.csv\", sep=\"\\t\")"
   ]
  },
  {
   "cell_type": "code",
   "execution_count": 15,
   "metadata": {},
   "outputs": [
    {
     "name": "stderr",
     "output_type": "stream",
     "text": [
      "/home/laidhimonthegreen/anaconda3/lib/python3.7/site-packages/ipykernel_launcher.py:1: SettingWithCopyWarning: \n",
      "A value is trying to be set on a copy of a slice from a DataFrame.\n",
      "Try using .loc[row_indexer,col_indexer] = value instead\n",
      "\n",
      "See the caveats in the documentation: http://pandas.pydata.org/pandas-docs/stable/indexing.html#indexing-view-versus-copy\n",
      "  \"\"\"Entry point for launching an IPython kernel.\n"
     ]
    }
   ],
   "source": [
    "cleaned_notes_pd[\"normalized\"] = cleaned_notes_pd[\"notes\"].apply(lambda x: normalize(x))"
   ]
  },
  {
   "cell_type": "code",
   "execution_count": 2,
   "metadata": {},
   "outputs": [],
   "source": [
    "# формируем небольшие датасеты для разметки"
   ]
  },
  {
   "cell_type": "code",
   "execution_count": 25,
   "metadata": {},
   "outputs": [],
   "source": [
    "cleaned_notes_pd.sample(1000).to_csv(\"sample_1-05.csv\", sep=\"\\t\")"
   ]
  },
  {
   "cell_type": "code",
   "execution_count": 19,
   "metadata": {},
   "outputs": [],
   "source": [
    "emotions_pd = cleaned_notes_pd[cleaned_notes_pd.notes.str.contains(\"не грустно\") == True]\n",
    "emotions_pd2 = cleaned_notes_pd[cleaned_notes_pd.notes.str.contains(\"тоскую\") == True]\n",
    "emotions_pd3 = cleaned_notes_pd[cleaned_notes_pd.notes.str.contains(\"счастлив,\") == True]\n",
    "emotions_pd4 = cleaned_notes_pd[cleaned_notes_pd.notes.str.contains(\"завидую\") == True]\n",
    "emotions_pd5 = cleaned_notes_pd[cleaned_notes_pd.notes.str.contains(\"люблю его\") == True]\n",
    "emotions_pd6 = cleaned_notes_pd[cleaned_notes_pd.notes.str.contains(\"одиноко\") == True]"
   ]
  },
  {
   "cell_type": "code",
   "execution_count": 20,
   "metadata": {},
   "outputs": [],
   "source": [
    "all_emotions_pd = pd.concat([emotions_pd, emotions_pd2, emotions_pd3, emotions_pd4, emotions_pd5, emotions_pd6])"
   ]
  },
  {
   "cell_type": "code",
   "execution_count": 21,
   "metadata": {},
   "outputs": [
    {
     "data": {
      "text/plain": [
       "2188"
      ]
     },
     "execution_count": 21,
     "metadata": {},
     "output_type": "execute_result"
    }
   ],
   "source": [
    "len(all_emotions_pd)"
   ]
  },
  {
   "cell_type": "code",
   "execution_count": 1,
   "metadata": {},
   "outputs": [],
   "source": [
    "# pyotr_pd = cleaned_notes_pd[cleaned_notes_pd.author == \"Петр Степанович Непорожний\"]"
   ]
  },
  {
   "cell_type": "code",
   "execution_count": 22,
   "metadata": {},
   "outputs": [],
   "source": [
    "all_emotions_pd.to_csv(\"emotions_pd.csv\", sep = \"\\t\")"
   ]
  },
  {
   "cell_type": "code",
   "execution_count": 23,
   "metadata": {},
   "outputs": [],
   "source": [
    "work_pd = cleaned_notes_pd[cleaned_notes_pd.notes.str.contains(\" доклад\") == True]\n",
    "work_pd2 = cleaned_notes_pd[cleaned_notes_pd.notes.str.contains(\" основные задачи\") == True]"
   ]
  },
  {
   "cell_type": "code",
   "execution_count": 24,
   "metadata": {},
   "outputs": [],
   "source": [
    "works_pd = pd.concat([work_pd, work_pd2])"
   ]
  },
  {
   "cell_type": "code",
   "execution_count": 25,
   "metadata": {},
   "outputs": [
    {
     "data": {
      "text/plain": [
       "9390"
      ]
     },
     "execution_count": 25,
     "metadata": {},
     "output_type": "execute_result"
    }
   ],
   "source": [
    "len(works_pd)"
   ]
  },
  {
   "cell_type": "code",
   "execution_count": 28,
   "metadata": {},
   "outputs": [],
   "source": [
    "works_pd.sample(1500).to_csv(\"works_pd.csv\", sep = \"\\t\")"
   ]
  },
  {
   "cell_type": "code",
   "execution_count": 14,
   "metadata": {
    "scrolled": true
   },
   "outputs": [
    {
     "name": "stderr",
     "output_type": "stream",
     "text": [
      "/home/laidhimonthegreen/anaconda3/lib/python3.7/site-packages/ipykernel_launcher.py:1: SettingWithCopyWarning: \n",
      "A value is trying to be set on a copy of a slice from a DataFrame.\n",
      "Try using .loc[row_indexer,col_indexer] = value instead\n",
      "\n",
      "See the caveats in the documentation: http://pandas.pydata.org/pandas-docs/stable/indexing.html#indexing-view-versus-copy\n",
      "  \"\"\"Entry point for launching an IPython kernel.\n"
     ]
    }
   ],
   "source": [
    "cleaned_notes_pd[\"cyrillic\"] = cleaned_notes_pd[\"notes\"].apply(lambda x: is_cyrillic(x))"
   ]
  },
  {
   "cell_type": "code",
   "execution_count": 15,
   "metadata": {},
   "outputs": [
    {
     "data": {
      "text/html": [
       "<div>\n",
       "<style scoped>\n",
       "    .dataframe tbody tr th:only-of-type {\n",
       "        vertical-align: middle;\n",
       "    }\n",
       "\n",
       "    .dataframe tbody tr th {\n",
       "        vertical-align: top;\n",
       "    }\n",
       "\n",
       "    .dataframe thead th {\n",
       "        text-align: right;\n",
       "    }\n",
       "</style>\n",
       "<table border=\"1\" class=\"dataframe\">\n",
       "  <thead>\n",
       "    <tr style=\"text-align: right;\">\n",
       "      <th></th>\n",
       "      <th>notes</th>\n",
       "      <th>dates</th>\n",
       "      <th>id</th>\n",
       "      <th>author</th>\n",
       "      <th>length</th>\n",
       "      <th>cyrillic</th>\n",
       "    </tr>\n",
       "  </thead>\n",
       "  <tbody>\n",
       "    <tr>\n",
       "      <th>0</th>\n",
       "      <td>Воскресенье.    \\nВчера приехал Слава навестит...</td>\n",
       "      <td>0/0/0</td>\n",
       "      <td>2950</td>\n",
       "      <td>Василий Сергеевич Савельев</td>\n",
       "      <td>313</td>\n",
       "      <td>True</td>\n",
       "    </tr>\n",
       "    <tr>\n",
       "      <th>1</th>\n",
       "      <td>Ночью мы достигли банки Антон-Дорн, в Датском ...</td>\n",
       "      <td>0/0/0</td>\n",
       "      <td>2268</td>\n",
       "      <td>Олег Владимирович Амитров</td>\n",
       "      <td>731</td>\n",
       "      <td>True</td>\n",
       "    </tr>\n",
       "    <tr>\n",
       "      <th>3</th>\n",
       "      <td>18 Августа Его Королевское Величество отправил...</td>\n",
       "      <td>1609/8/18</td>\n",
       "      <td>1081</td>\n",
       "      <td>Самуил  Бельский</td>\n",
       "      <td>155</td>\n",
       "      <td>True</td>\n",
       "    </tr>\n",
       "    <tr>\n",
       "      <th>7</th>\n",
       "      <td>22, к ночи, дошел до Молодочны, куда прибыл ко...</td>\n",
       "      <td>1609/8/22</td>\n",
       "      <td>1081</td>\n",
       "      <td>Самуил  Бельский</td>\n",
       "      <td>558</td>\n",
       "      <td>True</td>\n",
       "    </tr>\n",
       "    <tr>\n",
       "      <th>10</th>\n",
       "      <td>25, в Минск, где его милость пан Гетман польны...</td>\n",
       "      <td>1609/8/25</td>\n",
       "      <td>1081</td>\n",
       "      <td>Самуил  Бельский</td>\n",
       "      <td>782</td>\n",
       "      <td>True</td>\n",
       "    </tr>\n",
       "  </tbody>\n",
       "</table>\n",
       "</div>"
      ],
      "text/plain": [
       "                                                notes      dates    id  \\\n",
       "0   Воскресенье.    \\nВчера приехал Слава навестит...      0/0/0  2950   \n",
       "1   Ночью мы достигли банки Антон-Дорн, в Датском ...      0/0/0  2268   \n",
       "3   18 Августа Его Королевское Величество отправил...  1609/8/18  1081   \n",
       "7   22, к ночи, дошел до Молодочны, куда прибыл ко...  1609/8/22  1081   \n",
       "10  25, в Минск, где его милость пан Гетман польны...  1609/8/25  1081   \n",
       "\n",
       "                        author  length  cyrillic  \n",
       "0   Василий Сергеевич Савельев     313      True  \n",
       "1    Олег Владимирович Амитров     731      True  \n",
       "3             Самуил  Бельский     155      True  \n",
       "7             Самуил  Бельский     558      True  \n",
       "10            Самуил  Бельский     782      True  "
      ]
     },
     "execution_count": 15,
     "metadata": {},
     "output_type": "execute_result"
    }
   ],
   "source": [
    "cleaned_notes_pd.head()"
   ]
  }
 ],
 "metadata": {
  "kernelspec": {
   "display_name": "Python 3",
   "language": "python",
   "name": "python3"
  },
  "language_info": {
   "codemirror_mode": {
    "name": "ipython",
    "version": 3
   },
   "file_extension": ".py",
   "mimetype": "text/x-python",
   "name": "python",
   "nbconvert_exporter": "python",
   "pygments_lexer": "ipython3",
   "version": "3.7.3"
  }
 },
 "nbformat": 4,
 "nbformat_minor": 2
}
